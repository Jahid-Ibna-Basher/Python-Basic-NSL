{
 "cells": [
  {
   "cell_type": "code",
   "execution_count": null,
   "source": [
    "\"\"\"XML is a software- and hardware-independent tool for storing and transporting data.\r\n",
    "\r\n",
    "    XML stands for eXtensible Markup Language\r\n",
    "    XML is a markup language much like HTML\r\n",
    "    XML was designed to store and transport data\r\n",
    "    XML was designed to be self-descriptive\r\n",
    "    XML is a W3C Recommendation\r\n",
    "\r\n",
    "Maybe it is a little hard to understand, but XML does not DO anything.\r\n",
    "The XML above is quite self-descriptive:\r\n",
    "\r\n",
    "    It has sender information.\r\n",
    "    It has receiver information\r\n",
    "    It has a heading\r\n",
    "    It has a message body.\r\n",
    "\r\n",
    "\r\n",
    "\"\"\""
   ],
   "outputs": [],
   "metadata": {}
  },
  {
   "cell_type": "code",
   "execution_count": null,
   "source": [
    " <?xml version=\"1.0\" encoding=\"UTF-8\"?>\r\n",
    "<bookstore>\r\n",
    "\r\n",
    "  <book category=\"cooking\">\r\n",
    "    <title lang=\"en\">Everyday Italian</title>\r\n",
    "    <author>Giada De Laurentiis</author>\r\n",
    "    <year>2005</year>\r\n",
    "    <price>30.00</price>\r\n",
    "  </book>\r\n",
    "\r\n",
    "  <book category=\"children\">\r\n",
    "    <title lang=\"en\">Harry Potter</title>\r\n",
    "    <author>J K. Rowling</author>\r\n",
    "    <year>2005</year>\r\n",
    "    <price>29.99</price>\r\n",
    "  </book>\r\n",
    "\r\n",
    "</bookstore> "
   ],
   "outputs": [],
   "metadata": {}
  },
  {
   "cell_type": "code",
   "execution_count": null,
   "source": [],
   "outputs": [],
   "metadata": {}
  },
  {
   "cell_type": "code",
   "execution_count": null,
   "source": [],
   "outputs": [],
   "metadata": {}
  },
  {
   "cell_type": "code",
   "execution_count": null,
   "source": [],
   "outputs": [],
   "metadata": {}
  },
  {
   "cell_type": "code",
   "execution_count": null,
   "source": [],
   "outputs": [],
   "metadata": {}
  },
  {
   "cell_type": "code",
   "execution_count": null,
   "source": [],
   "outputs": [],
   "metadata": {}
  }
 ],
 "metadata": {
  "orig_nbformat": 4,
  "language_info": {
   "name": "python"
  }
 },
 "nbformat": 4,
 "nbformat_minor": 2
}