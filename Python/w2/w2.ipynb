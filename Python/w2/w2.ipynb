{
 "cells": [
  {
   "cell_type": "code",
   "execution_count": 1,
   "metadata": {},
   "outputs": [
    {
     "name": "stdout",
     "output_type": "stream",
     "text": [
      "Writing One_Function_arg_args_kwargs.py\n"
     ]
    }
   ],
   "source": [
    "%%writefile 'One_Function_arg_args_kwargs.py'\n",
    "\n",
    "'''args_sum(10,20,30,40) returns sum of k args\n",
    "print_kwargs(a=1,b=2,c=3) prints kwargs dict\n",
    "print_arg_args_kwargs(10,20,30,40,b=10,c=50) prints general arg,args, kwargs'''\n",
    "\n",
    "\n",
    "def args_sum(*args):\n",
    "    sum=0\n",
    "    for i in args:\n",
    "        sum+=i\n",
    "    return sum\n",
    "\n",
    "\n",
    "def print_kwargs(**kwargs):   # ** is used to pass dict parameter\n",
    "    print(kwargs)\n",
    "\n",
    "def print_arg_args_kwargs(a,*args,**kwargs):  #mixed paramter passing function\n",
    "    print(a);print(args);print(kwargs)\n",
    "    \n",
    "#print_dict(a=1,b=2,c=3)\n",
    "#print(make_sum(10,20,30,40))\n",
    "#print_all(10,20,30,40,b=10,c=50)"
   ]
  },
  {
   "cell_type": "code",
   "execution_count": 3,
   "metadata": {},
   "outputs": [
    {
     "name": "stdout",
     "output_type": "stream",
     "text": [
      "{'a': 1, 'b': 2, 'c': 3}\n",
      "10\n",
      "(20, 30, 40)\n",
      "{'b': 10, 'c': 50}\n"
     ]
    }
   ],
   "source": [
    "import One_Function_arg_args_kwargs as F\n",
    "F.args_sum(1,2,5,2,2)\n",
    "\n",
    "F.print_kwargs(a=1,b=2,c=3)\n",
    "\n",
    "F.print_arg_args_kwargs(10,20,30,40,b=10,c=50)"
   ]
  },
  {
   "cell_type": "code",
   "execution_count": 4,
   "metadata": {},
   "outputs": [
    {
     "data": {
      "text/plain": [
       "['args_sum(10,20,30,40) returns sum of k args',\n",
       " 'print_kwargs(a=1,b=2,c=3) prints kwargs dict',\n",
       " 'print_arg_args_kwargs(10,20,30,40,b=10,c=50) prints general arg,args, kwargs']"
      ]
     },
     "execution_count": 4,
     "metadata": {},
     "output_type": "execute_result"
    }
   ],
   "source": [
    "F.__doc__.split('\\n')"
   ]
  },
  {
   "cell_type": "code",
   "execution_count": null,
   "metadata": {},
   "outputs": [],
   "source": []
  },
  {
   "cell_type": "code",
   "execution_count": 5,
   "metadata": {},
   "outputs": [
    {
     "name": "stdout",
     "output_type": "stream",
     "text": [
      "Writing Two_Function_as_Object.py\n"
     ]
    }
   ],
   "source": [
    "%%writefile 'Two_Function_as_Object.py'\n",
    "'''\n",
    "This broadly means, that functions in Python:\n",
    "---have types\n",
    "---can be sent as arguments to another function\n",
    "---can be used in expression\n",
    "---can become part of various data structures like dictionaries\n",
    "'''\n",
    "\n",
    "def apply(L, f):\n",
    "    result = []\n",
    "    for i in range(len(L)):\n",
    "        result.append(f(L[i]))\n",
    " \n",
    "    return result\n",
    "\n",
    "def square(a):\n",
    "    return a*a\n",
    "\n",
    "def run():\n",
    "    print(apply([1,-1,3],abs))\n",
    "    print(apply([1,-1,3],square))"
   ]
  },
  {
   "cell_type": "code",
   "execution_count": 6,
   "metadata": {},
   "outputs": [
    {
     "name": "stdout",
     "output_type": "stream",
     "text": [
      "[1, 1, 3]\n",
      "[1, 1, 9]\n"
     ]
    }
   ],
   "source": [
    "from Two_Function_as_Object import run\n",
    "run()"
   ]
  },
  {
   "cell_type": "code",
   "execution_count": 7,
   "metadata": {},
   "outputs": [
    {
     "name": "stdout",
     "output_type": "stream",
     "text": [
      "Enter a value : 0\n",
      "division by zero not possible\n"
     ]
    }
   ],
   "source": [
    "try:\n",
    "    a=10\n",
    "    b=int(input('Enter a value : '))\n",
    "    assert b!=0, \"division by zero not possible\"\n",
    "    print(a/b)\n",
    "except Exception as e:\n",
    "    print(e)\n",
    "#finally:\n",
    "    #print('Divison by 1: ',a//1)"
   ]
  },
  {
   "cell_type": "code",
   "execution_count": 8,
   "metadata": {},
   "outputs": [
    {
     "name": "stdout",
     "output_type": "stream",
     "text": [
      "This pytrhon tutorial is great!\n",
      "The ML tutorial too!\n",
      "-------------------------------------\n",
      "This pytrhon tutorial is great!\n",
      "\n",
      "The ML tutorial too!\n",
      "-------------------------------------\n",
      "This pytrhon tutorial is great!\n",
      "The ML tutorial too!\n"
     ]
    }
   ],
   "source": [
    "file_to_work=open('ML.txt','r')\n",
    "#print(file_to_work.readline())\n",
    "content=file_to_work.read()\n",
    "print(content)\n",
    "\n",
    "print('-------------------------------------')\n",
    "\n",
    "for line in open('ML.txt','r'):\n",
    "    print(line)\n",
    "    \n",
    "print('-------------------------------------')\n",
    "\n",
    "with open('ML.txt') as f:\n",
    "    print(f.read())"
   ]
  },
  {
   "cell_type": "code",
   "execution_count": null,
   "metadata": {},
   "outputs": [],
   "source": []
  },
  {
   "cell_type": "code",
   "execution_count": 9,
   "metadata": {},
   "outputs": [
    {
     "name": "stdout",
     "output_type": "stream",
     "text": [
      "Writing Three_Function_as_Object_Example.py\n"
     ]
    }
   ],
   "source": [
    "%%writefile 'Three_Function_as_Object_Example.py'\n",
    "\n",
    "def make_twice(func,arg):\n",
    "    return func(func(arg))\n",
    "def add_five(x):\n",
    "    return x+5\n",
    "\n",
    "print(make_twice(add_five,10))"
   ]
  },
  {
   "cell_type": "code",
   "execution_count": 10,
   "metadata": {},
   "outputs": [
    {
     "name": "stdout",
     "output_type": "stream",
     "text": [
      "20\n"
     ]
    }
   ],
   "source": [
    "%run Three_Function_as_Object_Example.py"
   ]
  },
  {
   "cell_type": "code",
   "execution_count": 11,
   "metadata": {},
   "outputs": [
    {
     "name": "stdout",
     "output_type": "stream",
     "text": [
      "Writing Four_Lambda_Map_Filter.py\n"
     ]
    }
   ],
   "source": [
    "%%writefile 'Four_Lambda_Map_Filter.py'\n",
    "\n",
    "f = lambda  x : x*x\n",
    "x = list(map(f,[i for i in range(9)]))\n",
    "\n",
    "def is_even(i):return i%2==0 \n",
    "\n",
    "even = lambda x: x%2==0\n",
    "\n",
    "print(x,list(filter(is_even,x)),list(filter(even,x)),sep='\\n')"
   ]
  },
  {
   "cell_type": "code",
   "execution_count": 12,
   "metadata": {},
   "outputs": [
    {
     "name": "stdout",
     "output_type": "stream",
     "text": [
      "[0, 1, 4, 9, 16, 25, 36, 49, 64]\n",
      "[0, 4, 16, 36, 64]\n",
      "[0, 4, 16, 36, 64]\n"
     ]
    }
   ],
   "source": [
    "%run Four_Lambda_Map_Filter.py"
   ]
  },
  {
   "cell_type": "code",
   "execution_count": 13,
   "metadata": {},
   "outputs": [
    {
     "name": "stdout",
     "output_type": "stream",
     "text": [
      "Writing Five_Decorator.py\n"
     ]
    }
   ],
   "source": [
    "%%writefile 'Five_Decorator.py'\n",
    "\n",
    "txt = \"To change any funcitonality of a function but not change the code, decorator is used to modify and extend the code\"\n",
    "def print_list(arr):\n",
    "    print(arr)\n",
    "    \n",
    "def list_to_string(function):\n",
    "    def printx(arr):\n",
    "        function('.'.join([str(i) for i in arr]))\n",
    "        \n",
    "    return printx\n",
    "\n",
    "PrintList = list_to_string(print_list)\n",
    "\n",
    "PrintList([i for i in range(10)])"
   ]
  },
  {
   "cell_type": "code",
   "execution_count": 14,
   "metadata": {},
   "outputs": [
    {
     "name": "stdout",
     "output_type": "stream",
     "text": [
      "0.1.2.3.4.5.6.7.8.9\n"
     ]
    }
   ],
   "source": [
    "%run Five_Decorator.py"
   ]
  },
  {
   "cell_type": "code",
   "execution_count": 15,
   "metadata": {},
   "outputs": [
    {
     "name": "stdout",
     "output_type": "stream",
     "text": [
      "{1, 2, 3}\n",
      "<class 'set'>\n",
      "{1, 2, -7}\n",
      "{1, 2, 3, 4, 5, 6, 7, 8, 9}\n",
      "{4, 5, 6}\n",
      "{1, 2, 3}\n",
      "{1, 2, 3, 7, 8, 9}\n"
     ]
    }
   ],
   "source": [
    "num={1,2,1,2,3,1,2,3};print(num);print(type(num))\n",
    "\n",
    "num.add(-7);num.remove(3);print(num)\n",
    "\n",
    "first={1,2,3,4,5,6}\n",
    "second={4,5,6,7,8,9}\n",
    "\n",
    "print(first|second) #Union : |\n",
    "print(first&second) #Intersection : &\n",
    "print(first-second) #Difference : -\n",
    "print(first^second) #Symmetric Difference: ^"
   ]
  },
  {
   "cell_type": "code",
   "execution_count": 16,
   "metadata": {},
   "outputs": [
    {
     "name": "stdout",
     "output_type": "stream",
     "text": [
      "3\n",
      "4\n",
      "5\n",
      "6\n",
      "7\n",
      "8\n",
      "9\n",
      "10\n",
      "11\n"
     ]
    },
    {
     "data": {
      "text/plain": [
       "[1, 3, 6, 10, 15, 21]"
      ]
     },
     "execution_count": 16,
     "metadata": {},
     "output_type": "execute_result"
    }
   ],
   "source": [
    "'''\n",
    "there are some standard module which is mostly used in functional programming\n",
    "\n",
    "count: start a define value to infinity\n",
    "cycle: iterable to infinity\n",
    "repeat: repeat from infinity until a value \n",
    "\n",
    "map and filter is used as a iteration manner. similarly iterable is used in list, dictionary.accumulate function\n",
    "is used to sum up current values\n",
    "'''\n",
    "from itertools import count\n",
    "for i in count(3):\n",
    "    print(i);\n",
    "    if i>=11:break\n",
    "\n",
    "from itertools import accumulate\n",
    "numbers=[1,2,3,4,5,6]\n",
    "list(accumulate(numbers))"
   ]
  },
  {
   "cell_type": "code",
   "execution_count": 17,
   "metadata": {},
   "outputs": [
    {
     "name": "stdout",
     "output_type": "stream",
     "text": [
      "[1, 2, 3, 4, 5, 6]\n"
     ]
    }
   ],
   "source": [
    "''' As the name suggests it “take” the element from the sequence “while” the predicate is “true”.\n",
    "This function come under the category “terminating iterators”. The output cannot be used directly \n",
    "and has to be converted to another iterable form.Mostly they are converted into lists.'''\n",
    "\n",
    "from itertools import takewhile\n",
    "numbers=[1,2,3,4,5,6,7,8,9,10]\n",
    "less_than_six=takewhile(lambda x:x<=6,numbers)\n",
    "filtered_numbers=list(less_than_six)\n",
    "print(filtered_numbers)"
   ]
  },
  {
   "cell_type": "code",
   "execution_count": 18,
   "metadata": {},
   "outputs": [
    {
     "name": "stdout",
     "output_type": "stream",
     "text": [
      "[('A', 0), ('A', 1), ('B', 0), ('B', 1)]\n",
      "[('A', 'B'), ('B', 'A')]\n"
     ]
    }
   ],
   "source": [
    "from itertools import product,permutations\n",
    "letters=(\"A\",\"B\")\n",
    "\n",
    "print(list(product(letters,range(2))))\n",
    "print(list(permutations(letters)))"
   ]
  },
  {
   "cell_type": "code",
   "execution_count": null,
   "metadata": {},
   "outputs": [],
   "source": []
  }
 ],
 "metadata": {
  "kernelspec": {
   "display_name": "Python 3",
   "language": "python",
   "name": "python3"
  },
  "language_info": {
   "codemirror_mode": {
    "name": "ipython",
    "version": 3
   },
   "file_extension": ".py",
   "mimetype": "text/x-python",
   "name": "python",
   "nbconvert_exporter": "python",
   "pygments_lexer": "ipython3",
   "version": "3.8.10"
  }
 },
 "nbformat": 4,
 "nbformat_minor": 4
}
