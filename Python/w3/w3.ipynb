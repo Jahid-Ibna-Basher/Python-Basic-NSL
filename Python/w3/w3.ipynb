{
 "cells": [
  {
   "cell_type": "code",
   "execution_count": 1,
   "metadata": {},
   "outputs": [
    {
     "data": {
      "text/plain": [
       "[1.0, 2.0, 3.0]"
      ]
     },
     "execution_count": 1,
     "metadata": {},
     "output_type": "execute_result"
    }
   ],
   "source": [
    "list(map(float,[1,2,3]))"
   ]
  },
  {
   "cell_type": "code",
   "execution_count": 2,
   "metadata": {},
   "outputs": [
    {
     "name": "stdout",
     "output_type": "stream",
     "text": [
      "1 2 3\n",
      "12\n",
      "-860454829093830431\n"
     ]
    }
   ],
   "source": [
    "print(input() == 0 or hash(tuple([int(x) for x in (input().strip().split())])))"
   ]
  },
  {
   "cell_type": "code",
   "execution_count": 3,
   "metadata": {},
   "outputs": [
    {
     "data": {
      "text/plain": [
       "'SwAPcASE'"
      ]
     },
     "execution_count": 3,
     "metadata": {},
     "output_type": "execute_result"
    }
   ],
   "source": [
    "'sWapCase'.swapcase()"
   ]
  },
  {
   "cell_type": "code",
   "execution_count": 4,
   "metadata": {},
   "outputs": [
    {
     "data": {
      "text/plain": [
       "'Python-programming'"
      ]
     },
     "execution_count": 4,
     "metadata": {},
     "output_type": "execute_result"
    }
   ],
   "source": [
    "'-'.join(i for i in 'Python programming'.split(' '))"
   ]
  },
  {
   "cell_type": "code",
   "execution_count": 5,
   "metadata": {},
   "outputs": [],
   "source": [
    "#if __name__ == '__main__':"
   ]
  },
  {
   "cell_type": "code",
   "execution_count": 6,
   "metadata": {},
   "outputs": [
    {
     "data": {
      "text/plain": [
       "'Pythoc programming'"
      ]
     },
     "execution_count": 6,
     "metadata": {},
     "output_type": "execute_result"
    }
   ],
   "source": [
    "txt ,pos, char = list(\"Python programming\"), 5, 'c'\n",
    "\n",
    "def change(txt,pos,char,i):\n",
    "    if i!=pos:\n",
    "        return txt[i]\n",
    "    return char\n",
    "\n",
    "''.join(change(txt,pos,char,i) for i in range(len(txt)))"
   ]
  },
  {
   "cell_type": "code",
   "execution_count": 7,
   "metadata": {},
   "outputs": [
    {
     "name": "stdout",
     "output_type": "stream",
     "text": [
      "abcbcbcbc\n",
      "bc\n",
      "4\n"
     ]
    }
   ],
   "source": [
    "def count_substring(string, sub_string):\n",
    "    count=0\n",
    "    for i in range(len(string)):\n",
    "        if string[i:].startswith(sub_string):\n",
    "            count+=1\n",
    "    return count\n",
    "\n",
    "if __name__ == '__main__':\n",
    "    string = input().strip()\n",
    "    sub_string = input().strip()\n",
    "    \n",
    "    count = count_substring(string, sub_string)\n",
    "    print(count)"
   ]
  },
  {
   "cell_type": "code",
   "execution_count": 8,
   "metadata": {},
   "outputs": [
    {
     "name": "stdout",
     "output_type": "stream",
     "text": [
      "ab\n",
      "True\n",
      "True\n",
      "False\n",
      "True\n",
      "False\n"
     ]
    }
   ],
   "source": [
    "s = str(input())\n",
    "\n",
    "print (any( i.isalnum() for i in s))\n",
    "print(any(i.isalpha() for i in s))\n",
    "print(any(i.isdigit() for i in s))\n",
    "print(any(i.islower() for i in s))\n",
    "print(any(i.isupper() for i in s))"
   ]
  },
  {
   "cell_type": "code",
   "execution_count": 9,
   "metadata": {},
   "outputs": [
    {
     "data": {
      "text/plain": [
       "-14"
      ]
     },
     "execution_count": 9,
     "metadata": {},
     "output_type": "execute_result"
    }
   ],
   "source": [
    "11-12-13"
   ]
  },
  {
   "cell_type": "code",
   "execution_count": null,
   "metadata": {},
   "outputs": [],
   "source": [
    "week 4"
   ]
  },
  {
   "cell_type": "code",
   "execution_count": 10,
   "metadata": {},
   "outputs": [
    {
     "name": "stdout",
     "output_type": "stream",
     "text": [
      "<re.Match object; span=(3, 6), match='bin'>\n",
      "bin\n",
      "3\n",
      "6\n",
      "(3, 6)\n"
     ]
    }
   ],
   "source": [
    "import re\n",
    "pattern= r'bin'\n",
    "match=re.search(pattern,\"combination\")\n",
    "if match:\n",
    "    print(match)\n",
    "    print(match.group())\n",
    "    print(match.start())\n",
    "    print(match.end())\n",
    "    print(match.span())"
   ]
  },
  {
   "cell_type": "code",
   "execution_count": 12,
   "metadata": {},
   "outputs": [
    {
     "name": "stdout",
     "output_type": "stream",
     "text": [
      "Match 1\n",
      "Match 2\n"
     ]
    }
   ],
   "source": [
    "import re\n",
    "pattern=r\"gr.y\"\n",
    "if re.match(pattern,\"grey\"):\n",
    "    print(\"Match 1\")\n",
    "if re.match(pattern,\"gray\"):\n",
    "    print(\"Match 2\")\n",
    "if re.match(pattern,\"blue\"):\n",
    "    print(\"Match 3\")\n",
    "    \n"
   ]
  },
  {
   "cell_type": "code",
   "execution_count": 13,
   "metadata": {},
   "outputs": [
    {
     "name": "stdout",
     "output_type": "stream",
     "text": [
      "Match 1\n",
      "Match 2\n"
     ]
    }
   ],
   "source": [
    "'''\n",
    "another meta char is : ^ and $ which is used to check \n",
    "start and end of a string\n",
    "\n",
    "'''\n",
    "pattern=r'^wr.te$'\n",
    "#pattern=r'^wrxxxxxxte$'\n",
    "if re.match(pattern,\"write\"):\n",
    "    print(\"Match 1\")\n",
    "if re.match(pattern,\"wrote\"):\n",
    "    print(\"Match 2\")\n",
    "if re.match(pattern,\"writer\"):\n",
    "    print(\"Match 3\")"
   ]
  },
  {
   "cell_type": "code",
   "execution_count": 14,
   "metadata": {},
   "outputs": [
    {
     "name": "stdout",
     "output_type": "stream",
     "text": [
      "the word 'gray'  contain vowel\n",
      "the word 'xxww' does not contain vowel\n"
     ]
    }
   ],
   "source": [
    "import re\n",
    "#char set all vowel\n",
    "pattern =r\"[aeiou]\"\n",
    "if re.search(pattern,'gray'):\n",
    "    print(\"the word 'gray'  contain vowel\")\n",
    "else:\n",
    "    print(\"No vowel\")\n",
    "if re.search(pattern,'xxuu'):\n",
    "    print(\"the word 'xxww' does not contain vowel\")\n",
    "else:\n",
    "    print(\"No vowel\")"
   ]
  },
  {
   "cell_type": "code",
   "execution_count": 16,
   "metadata": {},
   "outputs": [
    {
     "name": "stdout",
     "output_type": "stream",
     "text": [
      "OK\n",
      "OK\n",
      "Not OK!\n",
      "OK\n",
      "Match\n"
     ]
    }
   ],
   "source": [
    "import re\n",
    "\n",
    "pattern = r\"[A-Z][A-Z][0-9]\"\n",
    "\n",
    "if re.search(pattern, \"NS1 is prefix of first name server address.\"):\n",
    "   # Found NS1 as match\n",
    "   print(\"OK\")\n",
    "\n",
    "if re.search(pattern, \"You should put a second one with NS2 as prefix.\"):\n",
    "   # Found NS2 as match\n",
    "   print(\"OK\")\n",
    "\n",
    "if re.search(pattern, \"I don\\'t have any nameserver.\"):\n",
    "    print(\"NS3\")\n",
    "else:\n",
    "    print(\"Not OK!\")\n",
    "\n",
    "if re.search(pattern, \"PY3K\"):\n",
    "   # Found PY3 as match\n",
    "   print(\"OK\")\n",
    "   \n",
    "# ^ is used to except purpos\n",
    "pattern=r\"[^A-Z]\"\n",
    "if re.search(pattern,'all small char'):\n",
    "    print(\"Match\")"
   ]
  },
  {
   "cell_type": "code",
   "execution_count": 18,
   "metadata": {},
   "outputs": [
    {
     "name": "stdout",
     "output_type": "stream",
     "text": [
      "Match 1\n",
      "Match 2\n",
      "<re.Match object; span=(0, 9), match='abcdefghi'>\n",
      "abcdefghi\n",
      "abcdefghi\n",
      "('bc', 'de', 'fgh', 'g')\n"
     ]
    }
   ],
   "source": [
    "import re\n",
    "pattern=r'egg(spam)*'\n",
    "if re.match(pattern,\"egg\"):\n",
    "    print(\"Match 1\")\n",
    "if re.match(pattern,\"eggspamsbdshbspamjsjs\"):\n",
    "    print(\"Match 2\")\n",
    "if re.match(pattern,\"spam\"):\n",
    "    print(\"Match 3\")\n",
    "\n",
    "\n",
    "# group call\n",
    "pattern =r'a(bc)(de)(f(g)h)i'\n",
    "match=re.match(pattern,'abcdefghijkln')\n",
    "if match:\n",
    "    print(match)\n",
    "    print(match.group())\n",
    "    print(match.group(0))\n",
    "    print(match.groups())"
   ]
  },
  {
   "cell_type": "code",
   "execution_count": null,
   "metadata": {},
   "outputs": [],
   "source": [
    "8-9-10"
   ]
  },
  {
   "cell_type": "code",
   "execution_count": 53,
   "metadata": {},
   "outputs": [],
   "source": [
    "class Complex(object):\n",
    "    def __init__(self,real=0,imaginary=0):\n",
    "        self.real = float(real)\n",
    "        self.imaginary = float(imaginary)\n",
    "        \n",
    "    def __add__(self,b):\n",
    "        return Complex((self.real+b.real),(self.imaginary+b.imaginary))\n",
    "    def __sub__(self,b):\n",
    "        return Complex((self.real-b.real),(self.imaginary-b.imaginary))\n",
    "    def __mul__(self,b):\n",
    "        return Complex((self.real*b.real - self.imaginary*b.imaginary),\n",
    "                       (self.imaginary*b.real + a.real*b.imaginary))\n",
    "    def __truediv__(self,b):\n",
    "        return Complex((self.real/b.real),(self.imaginary/b.imaginary))\n",
    "    \n",
    "    def sign(self):\n",
    "        r = \"\"\n",
    "        i = \"\"\n",
    "        if self.imaginary>=0:\n",
    "            i = '+'\n",
    "        return r,self.real,i,self.imaginary,'i'\n",
    "    \n",
    "    def __str__(self):\n",
    "        return ''.join(str(i) for i in self.sign())    "
   ]
  },
  {
   "cell_type": "code",
   "execution_count": 54,
   "metadata": {},
   "outputs": [
    {
     "name": "stdout",
     "output_type": "stream",
     "text": [
      "-3.0-2.0i\n"
     ]
    }
   ],
   "source": [
    "x = Complex(-3,-2)\n",
    "print(x)"
   ]
  },
  {
   "cell_type": "code",
   "execution_count": 55,
   "metadata": {},
   "outputs": [
    {
     "name": "stdout",
     "output_type": "stream",
     "text": [
      "-6.0+0.0i\n",
      "-3.0-2.0i\n",
      "3.0-2.0i\n",
      "3.0+2.0i\n"
     ]
    }
   ],
   "source": [
    "print(Complex(-3,2)+Complex(-3,-2))\n",
    "print(Complex(-3,-2))\n",
    "print(Complex(3,-2))\n",
    "print(Complex(3,2))"
   ]
  },
  {
   "cell_type": "code",
   "execution_count": null,
   "metadata": {},
   "outputs": [],
   "source": []
  },
  {
   "cell_type": "code",
   "execution_count": null,
   "metadata": {},
   "outputs": [],
   "source": []
  },
  {
   "cell_type": "code",
   "execution_count": null,
   "metadata": {},
   "outputs": [],
   "source": []
  },
  {
   "cell_type": "code",
   "execution_count": null,
   "metadata": {},
   "outputs": [],
   "source": []
  },
  {
   "cell_type": "code",
   "execution_count": null,
   "metadata": {},
   "outputs": [],
   "source": []
  },
  {
   "cell_type": "code",
   "execution_count": null,
   "metadata": {},
   "outputs": [],
   "source": []
  }
 ],
 "metadata": {
  "kernelspec": {
   "display_name": "Python 3",
   "language": "python",
   "name": "python3"
  },
  "language_info": {
   "codemirror_mode": {
    "name": "ipython",
    "version": 3
   },
   "file_extension": ".py",
   "mimetype": "text/x-python",
   "name": "python",
   "nbconvert_exporter": "python",
   "pygments_lexer": "ipython3",
   "version": "3.8.10"
  }
 },
 "nbformat": 4,
 "nbformat_minor": 4
}
