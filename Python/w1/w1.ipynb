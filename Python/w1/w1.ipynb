{
 "cells": [
  {
   "cell_type": "code",
   "execution_count": 12,
   "metadata": {},
   "outputs": [
    {
     "name": "stdout",
     "output_type": "stream",
     "text": [
      "Writing One_Input.py\n"
     ]
    }
   ],
   "source": [
    "%%writefile 'One_Input.py'\n",
    "def run():\n",
    "    n=int(input())\n",
    "    for i in range(5):\n",
    "        print(i+1,sep='',end=' ')"
   ]
  },
  {
   "cell_type": "code",
   "execution_count": 13,
   "metadata": {},
   "outputs": [
    {
     "name": "stdout",
     "output_type": "stream",
     "text": [
      "5\n",
      "1 2 3 4 5 "
     ]
    }
   ],
   "source": [
    "from One_Input import run\n",
    "run()"
   ]
  },
  {
   "cell_type": "code",
   "execution_count": 14,
   "metadata": {},
   "outputs": [
    {
     "name": "stdout",
     "output_type": "stream",
     "text": [
      "Writing Two_BasicStringOps.py\n"
     ]
    }
   ],
   "source": [
    "%%writefile 'Two_BasicStringOps.py'\n",
    "def run():\n",
    "    print(\", \".join([\"apple\", \"orange\", \"pineapple\"]))\n",
    "    print(\"Hello ME\".replace(\"ME\", \"world\"))\n",
    "    print(\"This is a sentence.\".startswith(\"This\"))\n",
    "    print(\"This is a sentence.\".endswith(\"sentence.\"))\n",
    "    print(\"This is a sentence.\".upper())\n",
    "    print(\"AN ALL CAPS SENTENCE\".lower())\n",
    "    print(\"a, e, i, o, u\".split(\", \"))"
   ]
  },
  {
   "cell_type": "code",
   "execution_count": 15,
   "metadata": {},
   "outputs": [
    {
     "name": "stdout",
     "output_type": "stream",
     "text": [
      "apple, orange, pineapple\n",
      "Hello world\n",
      "True\n",
      "True\n",
      "THIS IS A SENTENCE.\n",
      "an all caps sentence\n",
      "['a', 'e', 'i', 'o', 'u']\n"
     ]
    }
   ],
   "source": [
    "from Two_BasicStringOps import run\n",
    "run()"
   ]
  },
  {
   "cell_type": "code",
   "execution_count": null,
   "metadata": {},
   "outputs": [],
   "source": []
  },
  {
   "cell_type": "code",
   "execution_count": 20,
   "metadata": {},
   "outputs": [
    {
     "name": "stdout",
     "output_type": "stream",
     "text": [
      "Overwriting Three_PrintFunction.py\n"
     ]
    }
   ],
   "source": [
    "%%writefile 'Three_PrintFunction.py'\n",
    "def run():\n",
    "    n=int(input())\n",
    "    for i in range(n):\n",
    "        print(i+1,sep='',end=' ')"
   ]
  },
  {
   "cell_type": "code",
   "execution_count": 21,
   "metadata": {},
   "outputs": [
    {
     "name": "stdout",
     "output_type": "stream",
     "text": [
      "11\n",
      "1 2 3 4 5 "
     ]
    }
   ],
   "source": [
    "from Three_PrintFunction import run\n",
    "run()"
   ]
  },
  {
   "cell_type": "code",
   "execution_count": 22,
   "metadata": {},
   "outputs": [
    {
     "name": "stdout",
     "output_type": "stream",
     "text": [
      "Writing Four_Floor_ceil_round.py\n"
     ]
    }
   ],
   "source": [
    "%%writefile 'Four_Floor_ceil_round.py'\n",
    "import numpy as np\n",
    "np.set_printoptions(sign=' ')\n",
    "ara=np.array(input().split(),float)\n",
    "print(np.floor(ara),np.ceil(ara),np.rint(ara),sep='\\n')"
   ]
  },
  {
   "cell_type": "code",
   "execution_count": 23,
   "metadata": {},
   "outputs": [
    {
     "name": "stdout",
     "output_type": "stream",
     "text": [
      "Writing Five_FloarCeilRint.py\n"
     ]
    }
   ],
   "source": [
    "%%writefile 'Five_FloarCeilRint.py'\n",
    "\n",
    "import numpy as np\n",
    "np.set_printoptions(sign=' ')\n",
    "ara=np.array(input().split(),float)\n",
    "print(np.floor(ara),np.ceil(ara),np.rint(ara),sep='\\n')"
   ]
  },
  {
   "cell_type": "code",
   "execution_count": 24,
   "metadata": {},
   "outputs": [
    {
     "name": "stdout",
     "output_type": "stream",
     "text": [
      "3\n",
      "3\n",
      "3\n",
      "3\n",
      "[[0, 0, 0], [0, 0, 1], [0, 0, 2], [0, 1, 0], [0, 1, 1], [0, 1, 3], [0, 2, 0], [0, 2, 2], [0, 2, 3], [0, 3, 1], [0, 3, 2], [0, 3, 3], [1, 0, 0], [1, 0, 1], [1, 0, 3], [1, 1, 0], [1, 1, 2], [1, 1, 3], [1, 2, 1], [1, 2, 2], [1, 2, 3], [1, 3, 0], [1, 3, 1], [1, 3, 2], [1, 3, 3], [2, 0, 0], [2, 0, 2], [2, 0, 3], [2, 1, 1], [2, 1, 2], [2, 1, 3], [2, 2, 0], [2, 2, 1], [2, 2, 2], [2, 2, 3], [2, 3, 0], [2, 3, 1], [2, 3, 2], [2, 3, 3], [3, 0, 1], [3, 0, 2], [3, 0, 3], [3, 1, 0], [3, 1, 1], [3, 1, 2], [3, 1, 3], [3, 2, 0], [3, 2, 1], [3, 2, 2], [3, 2, 3], [3, 3, 0], [3, 3, 1], [3, 3, 2], [3, 3, 3]]\n"
     ]
    }
   ],
   "source": [
    "x = int(input())\n",
    "y = int(input())\n",
    "z = int(input())\n",
    "n = int(input())\n",
    "\n",
    "matrix=[]\n",
    "for i in range(x+1):\n",
    "    for j in range(y+1):\n",
    "        for k in range(z+1):\n",
    "            if (i+j+k) !=n:\n",
    "                matrix.append([i,j,k])\n",
    "            \n",
    "print(matrix)"
   ]
  },
  {
   "cell_type": "code",
   "execution_count": 25,
   "metadata": {},
   "outputs": [
    {
     "name": "stdout",
     "output_type": "stream",
     "text": [
      "Writing Six_FindRunnerUp_v1.py\n"
     ]
    }
   ],
   "source": [
    "%%writefile 'Six_FindRunnerUp_v1.py'\n",
    "\n",
    "n=int(input())\n",
    "a=[int(i) for i in input().split()]\n",
    "mx = a[0]\n",
    "ru = a[0]\n",
    "for i in a:\n",
    "    if i>mx:\n",
    "        ru = mx\n",
    "        mx = i\n",
    "        \n",
    "print(ru)"
   ]
  },
  {
   "cell_type": "code",
   "execution_count": 26,
   "metadata": {},
   "outputs": [
    {
     "name": "stdout",
     "output_type": "stream",
     "text": [
      "Writing Seven_FindRunnerUp_v2.py\n"
     ]
    }
   ],
   "source": [
    "%%writefile 'Seven_FindRunnerUp_v2.py'\n",
    "\n",
    "n=int(input())\n",
    "a=list(set([int(i) for i in input().split()]))\n",
    "mx = a[0]\n",
    "ru = a[0]\n",
    "\n",
    "for i in a:\n",
    "    if i>mx:\n",
    "        ru = mx\n",
    "        mx = i\n",
    "if len(a)>1:\n",
    "    print(a[:-2])    \n",
    "    print(ru)\n",
    "else:\n",
    "    print('No RunnerUp')"
   ]
  },
  {
   "cell_type": "code",
   "execution_count": 27,
   "metadata": {},
   "outputs": [
    {
     "name": "stdout",
     "output_type": "stream",
     "text": [
      "Writing Eight_LoopWithFoatStep.py\n"
     ]
    }
   ],
   "source": [
    "%%writefile 'Eight_LoopWithFoatStep.py'\n",
    "\n",
    "import numpy as np\n",
    "def frange(start,stop,step):\n",
    "    i=start\n",
    "    while i<stop:\n",
    "        yield i\n",
    "        i=i+step\n",
    "\n",
    "start,stop,step = [float(i) for i in input().split()]\n",
    "print('\\n')\n",
    "\n",
    "print(np.arange(start,stop,step))\n",
    "print(np.arange(start,stop,step))    \n",
    "print([start + step * x for x in range(0, 1 + int((stop-start)//step)) if start + step * x<= stop])\n",
    "      \n",
    "for i in frange(start,stop,step):\n",
    "    print(i,end = ' ')\n",
    "    \n",
    "print('\\n')    \n",
    "while start <= stop:\n",
    "    print(start,end = ' ')\n",
    "    start += step"
   ]
  },
  {
   "cell_type": "code",
   "execution_count": 28,
   "metadata": {},
   "outputs": [
    {
     "name": "stdout",
     "output_type": "stream",
     "text": [
      "Writing ReverseList.py\n"
     ]
    }
   ],
   "source": [
    "%%writefile 'ReverseList.py'\n",
    "def ReverseList(arr):\n",
    "    return arr[::-1]"
   ]
  },
  {
   "cell_type": "code",
   "execution_count": 49,
   "metadata": {},
   "outputs": [
    {
     "name": "stdout",
     "output_type": "stream",
     "text": [
      "{1: 1, 2: 4, 3: 9, 4: 16, 5: 25}\n",
      "{1: 'one', 2: 'two', 3: 'three'}\n",
      "True\n",
      "False\n",
      "None\n"
     ]
    }
   ],
   "source": [
    "my_nums={1:1,2:4,3:9,4:16}\n",
    "my_nums[5]=25\n",
    "print(my_nums)\n",
    "\n",
    "nums={1:'one',2:'two',3:'three'}\n",
    "print(nums);print(2 in nums);print('two' in nums)\n",
    "\n",
    "print(nums.get(5))"
   ]
  },
  {
   "cell_type": "code",
   "execution_count": 29,
   "metadata": {},
   "outputs": [
    {
     "name": "stdout",
     "output_type": "stream",
     "text": [
      "Writing Nine_Touples_Packing.py\n"
     ]
    }
   ],
   "source": [
    "%%writefile 'Nine_Touples_Packing.py'\n",
    "#Tuples\n",
    "a,b,*c,d=[1,2,3,4,5,6,7,8,9]\n",
    "print(a,b,c,d)\n",
    "\n",
    "fruit_ranking = [1, 2, 3]\n",
    "fruit_name = ['Mango', 'Pineapple', 'Watermelon']\n",
    "dict(zip(fruit_ranking,fruit_name))"
   ]
  },
  {
   "cell_type": "code",
   "execution_count": 51,
   "metadata": {},
   "outputs": [
    {
     "data": {
      "text/plain": [
       "{1: 'Mango', 2: 'Pineapple', 3: 'Watermelon'}"
      ]
     },
     "execution_count": 51,
     "metadata": {},
     "output_type": "execute_result"
    }
   ],
   "source": []
  },
  {
   "cell_type": "code",
   "execution_count": null,
   "metadata": {},
   "outputs": [],
   "source": []
  },
  {
   "cell_type": "code",
   "execution_count": null,
   "metadata": {},
   "outputs": [],
   "source": []
  },
  {
   "cell_type": "code",
   "execution_count": null,
   "metadata": {},
   "outputs": [],
   "source": []
  },
  {
   "cell_type": "code",
   "execution_count": null,
   "metadata": {},
   "outputs": [],
   "source": []
  },
  {
   "cell_type": "code",
   "execution_count": null,
   "metadata": {},
   "outputs": [],
   "source": []
  },
  {
   "cell_type": "code",
   "execution_count": null,
   "metadata": {},
   "outputs": [],
   "source": []
  },
  {
   "cell_type": "code",
   "execution_count": null,
   "metadata": {},
   "outputs": [],
   "source": []
  },
  {
   "cell_type": "code",
   "execution_count": null,
   "metadata": {},
   "outputs": [],
   "source": []
  },
  {
   "cell_type": "code",
   "execution_count": null,
   "metadata": {},
   "outputs": [],
   "source": []
  },
  {
   "cell_type": "code",
   "execution_count": null,
   "metadata": {},
   "outputs": [],
   "source": []
  }
 ],
 "metadata": {
  "kernelspec": {
   "display_name": "Python 3",
   "language": "python",
   "name": "python3"
  },
  "language_info": {
   "codemirror_mode": {
    "name": "ipython",
    "version": 3
   },
   "file_extension": ".py",
   "mimetype": "text/x-python",
   "name": "python",
   "nbconvert_exporter": "python",
   "pygments_lexer": "ipython3",
   "version": "3.8.10"
  }
 },
 "nbformat": 4,
 "nbformat_minor": 4
}
